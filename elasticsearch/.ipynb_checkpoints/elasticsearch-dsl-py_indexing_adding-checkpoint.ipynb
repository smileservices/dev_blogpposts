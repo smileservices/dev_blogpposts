{
 "cells": [
  {
   "cell_type": "code",
   "execution_count": 2,
   "metadata": {
    "collapsed": false
   },
   "outputs": [],
   "source": [
    "from elasticsearch_dsl import Index, Document, Text, Integer, Completion, analyzer, tokenizer, connections, Q\n",
    "\n",
    "connections.create_connection(hosts=['localhost:9200'], timeout=20)\n",
    "\n",
    "skills = [\n",
    "    {'name': 'python'},\n",
    "    {'name': 'c++'},\n",
    "    {'name': 'pycharm'},\n",
    "    {'name': 'php'},\n",
    "    {'name': 'curl'},\n",
    "    {'name': 'pyglass'},\n",
    "    {'name': 'pig farm'},\n",
    "]\n",
    "\n",
    "my_analyzer = analyzer('my_analyzer',\n",
    "    tokenizer=tokenizer('trigram', 'edge_ngram', min_gram=1, max_gram=5),\n",
    "    filter=['lowercase']\n",
    ")\n",
    "\n",
    "class SkillDoc(Document):\n",
    "\n",
    "    name = Text(\n",
    "        analyzer='standard'\n",
    "      )\n",
    "    id = Integer()\n",
    "\n",
    "    class Index:\n",
    "        name = 'skills'\n",
    "\n",
    "\n",
    "SkillDoc.init()"
   ]
  },
  {
   "cell_type": "code",
   "execution_count": 3,
   "metadata": {
    "collapsed": true
   },
   "outputs": [],
   "source": [
    "for i, skill in enumerate(skills):\n",
    "    sk = SkillDoc(\n",
    "        name=skill['name'],\n",
    "        id = i,\n",
    "        meta = {'id':i},\n",
    "    )\n",
    "    sk.save()"
   ]
  },
  {
   "cell_type": "code",
   "execution_count": 7,
   "metadata": {
    "collapsed": false
   },
   "outputs": [
    {
     "name": "stdout",
     "output_type": "stream",
     "text": [
      "pycharm\n",
      "python\n",
      "pyglass\n"
     ]
    }
   ],
   "source": [
    "s = SkillDoc.search()\n",
    "s1 = s.query('match_phrase_prefix', name='py')\n",
    "q = Q\n",
    "response = s1.execute()\n",
    "for h in response.to_dict()['hits']['hits']:\n",
    "    print(h['_source']['name'])"
   ]
  },
  {
   "cell_type": "code",
   "execution_count": null,
   "metadata": {
    "collapsed": false
   },
   "outputs": [],
   "source": [
    "Index('skills').delete()"
   ]
  },
  {
   "cell_type": "code",
   "execution_count": 10,
   "metadata": {
    "collapsed": false
   },
   "outputs": [],
   "source": [
    "ka = analyzer('keyword_analyzer',\n",
    "            type=\"custom\",\n",
    "            tokenizer='standard',\n",
    "            filter=['lowercase','asciifolding','trim', 'stop']\n",
    "    )"
   ]
  },
  {
   "cell_type": "code",
   "execution_count": 11,
   "metadata": {
    "collapsed": false
   },
   "outputs": [
    {
     "data": {
      "text/plain": [
       "['some',\n",
       " 'phrase',\n",
       " 'containing',\n",
       " 'word',\n",
       " 'may',\n",
       " 'include',\n",
       " 'few',\n",
       " 'leaps',\n",
       " 'jumps',\n",
       " 'could',\n",
       " 'sentence']"
      ]
     },
     "execution_count": 11,
     "metadata": {},
     "output_type": "execute_result"
    }
   ],
   "source": [
    "res = ka.simulate('Some Phrase Containing A Word or May Include Few Leaps or Jumps and Could Be a Sentence')\n",
    "[t.token for t in res.tokens]"
   ]
  },
  {
   "cell_type": "code",
   "execution_count": null,
   "metadata": {
    "collapsed": true
   },
   "outputs": [],
   "source": []
  }
 ],
 "metadata": {
  "kernelspec": {
   "display_name": "Python 3.5 (crawling)",
   "language": "python",
   "name": "crawling"
  },
  "language_info": {
   "codemirror_mode": {
    "name": "ipython",
    "version": 3
   },
   "file_extension": ".py",
   "mimetype": "text/x-python",
   "name": "python",
   "nbconvert_exporter": "python",
   "pygments_lexer": "ipython3",
   "version": "3.5.6"
  }
 },
 "nbformat": 4,
 "nbformat_minor": 2
}
