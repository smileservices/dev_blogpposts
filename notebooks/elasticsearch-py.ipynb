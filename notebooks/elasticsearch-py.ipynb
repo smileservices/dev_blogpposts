{
 "cells": [
  {
   "cell_type": "code",
   "execution_count": 15,
   "metadata": {
    "collapsed": true
   },
   "outputs": [],
   "source": [
    "from datetime import datetime\n",
    "from time import time\n",
    "from elasticsearch import Elasticsearch\n",
    "es = Elasticsearch()"
   ]
  },
  {
   "cell_type": "code",
   "execution_count": null,
   "metadata": {
    "collapsed": false
   },
   "outputs": [],
   "source": [
    "\n",
    "\n",
    "doc = {\n",
    "    'author': 'kimchy',\n",
    "    'text': 'Elasticsearch: cool. bonsai cool.',\n",
    "    'timestamp': datetime.now(),\n",
    "}\n",
    "res = es.index(index=\"test-index\", doc_type='tweet', id=1, body=doc)\n",
    "print(res['result'])\n",
    "\n",
    "res = es.get(index=\"test-index\", doc_type='tweet', id=1)\n",
    "print(res['_source'])\n",
    "\n",
    "es.indices.refresh(index=\"test-index\")\n",
    "\n",
    "res = es.search(index=\"test-index\", body={\"query\": {\"match_all\": {}}})\n",
    "print(\"Got %d Hits:\" % res['hits']['total'])\n",
    "for hit in res['hits']['hits']:\n",
    "    print(\"%(timestamp)s %(author)s: %(text)s\" % hit[\"_source\"])"
   ]
  },
  {
   "cell_type": "code",
   "execution_count": 1,
   "metadata": {
    "collapsed": true
   },
   "outputs": [],
   "source": [
    "# start simple\n",
    "\n",
    "import random\n",
    "\n",
    "names = ['John', 'Doe', 'Gabriel', 'Alex', 'Lucy', 'Gabe', 'Vito', 'Lucy']\n",
    "professions = ['clerk', 'police officer', 'software developer', 'window washer', 'banker', 'unemployed', 'wordpress developer', 'gangster', 'politician']\n",
    "interests = ['paragliding', 'rock climbing', 'killing', 'murdering', 'cycling', 'bicyle', 'outdoors', 'computers', 'programming', 'ladies']\n",
    "age = range(15, 65)\n",
    "city = ['LA', 'Chicago', 'Utah']"
   ]
  },
  {
   "cell_type": "code",
   "execution_count": 2,
   "metadata": {
    "collapsed": false
   },
   "outputs": [],
   "source": [
    "def get_person(n):\n",
    "    i = 0\n",
    "    while i < n:\n",
    "        i += 1\n",
    "        yield {\n",
    "            'name': \"{} {}\".format(random.choice(names), random.choice(names)),\n",
    "            'age': random.choice(age),\n",
    "            'city': random.choice(city),\n",
    "            'profession': random.choice(professions),\n",
    "            'interests': random.sample(interests, k=random.randint(0,3))\n",
    "        }"
   ]
  },
  {
   "cell_type": "code",
   "execution_count": 3,
   "metadata": {
    "collapsed": false
   },
   "outputs": [],
   "source": [
    "data = [person for person in get_person(500)]"
   ]
  },
  {
   "cell_type": "markdown",
   "metadata": {},
   "source": [
    "## task 1\n",
    "- index the data\n",
    "- supply a simple search function"
   ]
  },
  {
   "cell_type": "code",
   "execution_count": null,
   "metadata": {
    "collapsed": false
   },
   "outputs": [],
   "source": [
    "from elasticsearch import Elasticsearch\n",
    "es = Elasticsearch()"
   ]
  },
  {
   "cell_type": "code",
   "execution_count": null,
   "metadata": {
    "collapsed": false
   },
   "outputs": [],
   "source": [
    "for idx, ppl in enumerate(data):\n",
    "    es.index(index='people', doc_type='person', id=idx, body=ppl)"
   ]
  },
  {
   "cell_type": "code",
   "execution_count": null,
   "metadata": {
    "collapsed": false
   },
   "outputs": [],
   "source": [
    "def simple_search(term, no_res):\n",
    "    query = {\n",
    "        \"query\": {\n",
    "            \"match\": {'name': term}\n",
    "        }\n",
    "    }\n",
    "    res = es.search(index=\"people\", size=no_res, body=query)\n",
    "    print(\"found {} results\".format(res['hits']['total']))\n",
    "    return res"
   ]
  },
  {
   "cell_type": "markdown",
   "metadata": {},
   "source": [
    "## task 2\n",
    "- index with mapping, standard analyzers\n",
    "- query for matching all fields"
   ]
  },
  {
   "cell_type": "code",
   "execution_count": null,
   "metadata": {
    "collapsed": false
   },
   "outputs": [],
   "source": [
    "#delete index\n",
    "es.indices.delete(index='people', ignore=[400, 404])"
   ]
  },
  {
   "cell_type": "code",
   "execution_count": null,
   "metadata": {
    "collapsed": false
   },
   "outputs": [],
   "source": [
    "#create new index\n",
    "index_body = {\n",
    "    \"settings\" : {\n",
    "        \"number_of_shards\" : 1\n",
    "    },\n",
    "    \"mappings\" : {\n",
    "        \"person\": {\n",
    "            \"properties\" : {\n",
    "                \"name\" : { \"type\" : \"text\", \"copy_to\": \"all_fields\" },\n",
    "                \"city\" : { \"type\" : \"text\", \"copy_to\": \"all_fields\" },\n",
    "                \"age\" : { \"type\" : \"integer\"},\n",
    "                \"profession\" : { \"type\" : \"text\", \"copy_to\": \"all_fields\" },\n",
    "                \"interests\" : { \"type\" : \"keyword\", \"copy_to\": \"all_fields\" },\n",
    "                \"all_fields\": {\"type\": \"text\"}\n",
    "            }\n",
    "        }\n",
    "    }\n",
    "}\n",
    "es.indices.create('people', body=index_body)"
   ]
  },
  {
   "cell_type": "code",
   "execution_count": null,
   "metadata": {
    "collapsed": true
   },
   "outputs": [],
   "source": [
    "import time"
   ]
  },
  {
   "cell_type": "code",
   "execution_count": null,
   "metadata": {
    "collapsed": false
   },
   "outputs": [],
   "source": [
    "t0 = time.time()\n",
    "for idx, ppl in enumerate(data):\n",
    "    es.index(index='people', doc_type='person', id=idx, body=ppl)\n",
    "print(\"indexing took {} ms\".format((time.time()-t0)*1000))"
   ]
  },
  {
   "cell_type": "code",
   "execution_count": null,
   "metadata": {
    "collapsed": true
   },
   "outputs": [],
   "source": [
    "def simple_all_search(term, no_res):\n",
    "    query = {\n",
    "        \"query\": {\n",
    "            \"match\": {'all_fields': term}\n",
    "        }\n",
    "    }\n",
    "    res = es.search(index=\"people\", size=no_res, body=query)\n",
    "    print(\"found {} results\".format(res['hits']['total']))\n",
    "    return res"
   ]
  },
  {
   "cell_type": "markdown",
   "metadata": {},
   "source": [
    "## Task 3\n",
    "- create index with analyzers good for autocomplete\n",
    "- make autocomplete search function"
   ]
  },
  {
   "cell_type": "code",
   "execution_count": 145,
   "metadata": {
    "collapsed": false
   },
   "outputs": [
    {
     "data": {
      "text/plain": [
       "{'error': {'index': 'people',\n",
       "  'index_uuid': '_na_',\n",
       "  'reason': 'no such index [people]',\n",
       "  'resource.id': 'people',\n",
       "  'resource.type': 'index_or_alias',\n",
       "  'root_cause': [{'index': 'people',\n",
       "    'index_uuid': '_na_',\n",
       "    'reason': 'no such index [people]',\n",
       "    'resource.id': 'people',\n",
       "    'resource.type': 'index_or_alias',\n",
       "    'type': 'index_not_found_exception'}],\n",
       "  'type': 'index_not_found_exception'},\n",
       " 'status': 404}"
      ]
     },
     "execution_count": 145,
     "metadata": {},
     "output_type": "execute_result"
    }
   ],
   "source": [
    "#delete index\n",
    "es.indices.delete(index='people', ignore=[400, 404])"
   ]
  },
  {
   "cell_type": "code",
   "execution_count": 30,
   "metadata": {
    "collapsed": false
   },
   "outputs": [
    {
     "data": {
      "text/plain": [
       "{'acknowledged': True, 'index': 'people', 'shards_acknowledged': True}"
      ]
     },
     "execution_count": 30,
     "metadata": {},
     "output_type": "execute_result"
    }
   ],
   "source": [
    "#create new index\n",
    "index_body = {\n",
    "    'settings': {},\n",
    "    'mappings': {}\n",
    "}\n",
    "\n",
    "index_body['settings']['number_of_shards'] = 1\n",
    "analysis = {        \n",
    "    'analyzer': {\n",
    "          \"edge_ngram\": {\n",
    "            \"filter\": [\n",
    "              \"lowercase\",\n",
    "              \"edge_ngram_filter\"\n",
    "            ],\n",
    "            \"tokenizer\": \"keyword\",\n",
    "            \"type\": \"custom\"\n",
    "          },\n",
    "        \"stopword_analyzer\": {\n",
    "          \"stopwords\": [\n",
    "            \"and\",\n",
    "            \"the\"\n",
    "          ],\n",
    "          \"type\": \"standard\"\n",
    "        }\n",
    "    },\n",
    "    \"filter\": {\n",
    "      \"edge_ngram_filter\": {\n",
    "        \"max_gram\": \"15\",\n",
    "        \"min_gram\": \"1\",\n",
    "        \"side\": \"front\",\n",
    "        \"type\": \"edgeNGram\"\n",
    "      }\n",
    "    }\n",
    "}\n",
    "\n",
    "index_body['mappings'] = {\n",
    "    \"properties\" : {\n",
    "        \"name\" : { \"type\" : \"text\", \"copy_to\": \"suggest\" },\n",
    "        \"city\" : { \"type\" : \"text\", \"copy_to\": \"suggest\" },\n",
    "        \"age\" : { \"type\" : \"integer\"},\n",
    "        \"profession\" : { \"type\" : \"text\", \"copy_to\": \"suggest\" },\n",
    "        \"interests\" : { \"type\" : \"keyword\", \"copy_to\": \"suggest\" },\n",
    "        \"suggest\": {\n",
    "            \"type\": \"completion\",\n",
    "        }\n",
    "    }\n",
    "}\n",
    "\n",
    "es.indices.create('people', body=index_body)"
   ]
  },
  {
   "cell_type": "code",
   "execution_count": 31,
   "metadata": {
    "collapsed": false
   },
   "outputs": [
    {
     "name": "stdout",
     "output_type": "stream",
     "text": [
      "indexing took 3751.1346340179443 ms\n"
     ]
    }
   ],
   "source": [
    "t0 = time()\n",
    "for idx, ppl in enumerate(data):\n",
    "    es.index(index='people', doc_type='_doc', id=idx, body=ppl)\n",
    "print(\"indexing took {} ms\".format((time()-t0)*1000))"
   ]
  },
  {
   "cell_type": "code",
   "execution_count": 32,
   "metadata": {
    "collapsed": false
   },
   "outputs": [],
   "source": [
    "def simple_autocomplete(term, no_res=3):\n",
    "    query = {\n",
    "        \"suggest\": {\n",
    "            \"person-suggest\" : {\n",
    "                \"prefix\" : term, \n",
    "                \"completion\" : {\n",
    "                    \"field\" : \"suggest\",\n",
    "                    \"size\": no_res\n",
    "                }\n",
    "            }\n",
    "        }\n",
    "    }\n",
    "    res = es.search(index=\"people\", body=query)\n",
    "#     print(\"found {} suggest\".format(len(res['suggest']['person-suggest'][0]['options'])))\n",
    "    return res"
   ]
  },
  {
   "cell_type": "code",
   "execution_count": 33,
   "metadata": {
    "collapsed": false,
    "scrolled": true
   },
   "outputs": [
    {
     "data": {
      "text/plain": [
       "{'_shards': {'failed': 0, 'skipped': 0, 'successful': 1, 'total': 1},\n",
       " 'hits': {'hits': [],\n",
       "  'max_score': None,\n",
       "  'total': {'relation': 'eq', 'value': 0}},\n",
       " 'suggest': {'person-suggest': [{'length': 5,\n",
       "    'offset': 0,\n",
       "    'options': [{'_id': '21',\n",
       "      '_index': 'people',\n",
       "      '_score': 1.0,\n",
       "      '_source': {'age': 27,\n",
       "       'city': 'Utah',\n",
       "       'interests': [],\n",
       "       'name': 'Doe Lucy',\n",
       "       'profession': 'banker'},\n",
       "      '_type': '_doc',\n",
       "      'text': 'Doe Lucy'},\n",
       "     {'_id': '104',\n",
       "      '_index': 'people',\n",
       "      '_score': 1.0,\n",
       "      '_source': {'age': 23,\n",
       "       'city': 'Chicago',\n",
       "       'interests': [],\n",
       "       'name': 'Doe Lucy',\n",
       "       'profession': 'politician'},\n",
       "      '_type': '_doc',\n",
       "      'text': 'Doe Lucy'},\n",
       "     {'_id': '116',\n",
       "      '_index': 'people',\n",
       "      '_score': 1.0,\n",
       "      '_source': {'age': 19,\n",
       "       'city': 'Utah',\n",
       "       'interests': [],\n",
       "       'name': 'Doe Lucy',\n",
       "       'profession': 'unemployed'},\n",
       "      '_type': '_doc',\n",
       "      'text': 'Doe Lucy'},\n",
       "     {'_id': '151',\n",
       "      '_index': 'people',\n",
       "      '_score': 1.0,\n",
       "      '_source': {'age': 47,\n",
       "       'city': 'Chicago',\n",
       "       'interests': ['computers'],\n",
       "       'name': 'Doe Lucy',\n",
       "       'profession': 'police officer'},\n",
       "      '_type': '_doc',\n",
       "      'text': 'Doe Lucy'},\n",
       "     {'_id': '164',\n",
       "      '_index': 'people',\n",
       "      '_score': 1.0,\n",
       "      '_source': {'age': 32,\n",
       "       'city': 'LA',\n",
       "       'interests': [],\n",
       "       'name': 'Doe Lucy',\n",
       "       'profession': 'software developer'},\n",
       "      '_type': '_doc',\n",
       "      'text': 'Doe Lucy'}],\n",
       "    'text': 'Doe L'}]},\n",
       " 'timed_out': False,\n",
       " 'took': 76}"
      ]
     },
     "execution_count": 33,
     "metadata": {},
     "output_type": "execute_result"
    }
   ],
   "source": [
    "simple_autocomplete('Doe L', 5)"
   ]
  },
  {
   "cell_type": "markdown",
   "metadata": {},
   "source": [
    "## Task 4\n",
    "- make query\n",
    "- make filter\n",
    "- make get"
   ]
  },
  {
   "cell_type": "code",
   "execution_count": 41,
   "metadata": {
    "collapsed": false,
    "scrolled": true
   },
   "outputs": [
    {
     "data": {
      "text/plain": [
       "{'_shards': {'failed': 0, 'skipped': 0, 'successful': 1, 'total': 1},\n",
       " 'hits': {'hits': [],\n",
       "  'max_score': None,\n",
       "  'total': {'relation': 'eq', 'value': 0}},\n",
       " 'suggest': {'person-suggest': [{'length': 4,\n",
       "    'offset': 0,\n",
       "    'options': [{'_id': '41',\n",
       "      '_index': 'people',\n",
       "      '_score': 1.0,\n",
       "      '_source': {'age': 64,\n",
       "       'city': 'Chicago',\n",
       "       'interests': ['paragliding', 'cycling', 'rock climbing'],\n",
       "       'name': 'Lucy Lucy',\n",
       "       'profession': 'politician'},\n",
       "      '_type': '_doc',\n",
       "      'text': 'rock climbing'},\n",
       "     {'_id': '55',\n",
       "      '_index': 'people',\n",
       "      '_score': 1.0,\n",
       "      '_source': {'age': 50,\n",
       "       'city': 'Utah',\n",
       "       'interests': ['computers', 'rock climbing'],\n",
       "       'name': 'Lucy Lucy',\n",
       "       'profession': 'banker'},\n",
       "      '_type': '_doc',\n",
       "      'text': 'rock climbing'},\n",
       "     {'_id': '72',\n",
       "      '_index': 'people',\n",
       "      '_score': 1.0,\n",
       "      '_source': {'age': 38,\n",
       "       'city': 'Chicago',\n",
       "       'interests': ['programming', 'rock climbing'],\n",
       "       'name': 'Lucy Gabriel',\n",
       "       'profession': 'politician'},\n",
       "      '_type': '_doc',\n",
       "      'text': 'rock climbing'},\n",
       "     {'_id': '76',\n",
       "      '_index': 'people',\n",
       "      '_score': 1.0,\n",
       "      '_source': {'age': 19,\n",
       "       'city': 'Utah',\n",
       "       'interests': ['ladies', 'rock climbing', 'paragliding'],\n",
       "       'name': 'Lucy Gabriel',\n",
       "       'profession': 'wordpress developer'},\n",
       "      '_type': '_doc',\n",
       "      'text': 'rock climbing'},\n",
       "     {'_id': '88',\n",
       "      '_index': 'people',\n",
       "      '_score': 1.0,\n",
       "      '_source': {'age': 31,\n",
       "       'city': 'Utah',\n",
       "       'interests': ['rock climbing', 'programming', 'cycling'],\n",
       "       'name': 'Gabriel Lucy',\n",
       "       'profession': 'clerk'},\n",
       "      '_type': '_doc',\n",
       "      'text': 'rock climbing'}],\n",
       "    'text': 'rock'}]},\n",
       " 'timed_out': False,\n",
       " 'took': 5}"
      ]
     },
     "execution_count": 41,
     "metadata": {},
     "output_type": "execute_result"
    }
   ],
   "source": [
    "query = {\n",
    "    \"suggest\": {\n",
    "        \"person-suggest\" : {\n",
    "            \"prefix\" : 'rock', \n",
    "            \"completion\" : {\n",
    "                \"field\" : \"suggest\",\n",
    "                \"size\": 5\n",
    "            }\n",
    "        }\n",
    "    }\n",
    "}\n",
    "es.search(index=\"people\", body=query)"
   ]
  },
  {
   "cell_type": "code",
   "execution_count": 87,
   "metadata": {
    "collapsed": false
   },
   "outputs": [
    {
     "data": {
      "text/plain": [
       "{'_shards': {'failed': 0, 'skipped': 0, 'successful': 1, 'total': 1},\n",
       " 'hits': {'hits': [{'_id': '340',\n",
       "    '_index': 'people',\n",
       "    '_score': 1.5388111,\n",
       "    '_source': {'age': 49,\n",
       "     'city': 'Chicago',\n",
       "     'interests': [],\n",
       "     'name': 'Gabriel John',\n",
       "     'profession': 'politician'},\n",
       "    '_type': '_doc'},\n",
       "   {'_id': '447',\n",
       "    '_index': 'people',\n",
       "    '_score': 1.5388111,\n",
       "    '_source': {'age': 44,\n",
       "     'city': 'Chicago',\n",
       "     'interests': ['programming'],\n",
       "     'name': 'John Alex',\n",
       "     'profession': 'politician'},\n",
       "    '_type': '_doc'}],\n",
       "  'max_score': 1.5388111,\n",
       "  'total': {'relation': 'eq', 'value': 2}},\n",
       " 'timed_out': False,\n",
       " 'took': 11}"
      ]
     },
     "execution_count": 87,
     "metadata": {},
     "output_type": "execute_result"
    }
   ],
   "source": [
    "query = {\n",
    "    \"query\": {\n",
    "        'bool': {\n",
    "            'must': [\n",
    "                {'match': {'name': {\n",
    "                    'query':'jnh',\n",
    "                    'fuzziness': 2\n",
    "                }}},\n",
    "                {'match': {'city': 'chicago'}},\n",
    "            ],\n",
    "            'filter': [\n",
    "                {'term': {'profession': 'politician'}},\n",
    "                {'range': {'age': {'gte': 40, 'lte': 50}}}\n",
    "            ]\n",
    "        }\n",
    "    }\n",
    "}\n",
    "es.search(index=\"people\", body=query)"
   ]
  },
  {
   "cell_type": "code",
   "execution_count": 95,
   "metadata": {
    "collapsed": false
   },
   "outputs": [],
   "source": [
    "query = {\n",
    "    \"query\": {\n",
    "        'bool': {\n",
    "            'filter': [\n",
    "                {'term': {'profession': 'politician'}},\n",
    "                {'range': {'age': {'gte': 40, 'lte': 50}}}\n",
    "            ]\n",
    "        }\n",
    "    }\n",
    "}\n",
    "r = es.search(index=\"people\", body=query)"
   ]
  },
  {
   "cell_type": "code",
   "execution_count": 110,
   "metadata": {
    "collapsed": false
   },
   "outputs": [
    {
     "data": {
      "text/plain": [
       "{'age': 40,\n",
       " 'city': 'LA',\n",
       " 'interests': ['murdering'],\n",
       " 'name': 'Vito Gabriel',\n",
       " 'profession': 'politician'}"
      ]
     },
     "execution_count": 110,
     "metadata": {},
     "output_type": "execute_result"
    }
   ],
   "source": [
    "r['hits']['hits'][2]['_source']"
   ]
  },
  {
   "cell_type": "code",
   "execution_count": 132,
   "metadata": {
    "collapsed": false
   },
   "outputs": [],
   "source": [
    "def get_gen(res):\n",
    "    for i in range(len(res['hits']['hits'])):\n",
    "        yield res['hits']['hits'][i]['_source']"
   ]
  },
  {
   "cell_type": "code",
   "execution_count": 133,
   "metadata": {
    "collapsed": true
   },
   "outputs": [],
   "source": [
    "gr = get_gen(r)"
   ]
  },
  {
   "cell_type": "code",
   "execution_count": 135,
   "metadata": {
    "collapsed": false
   },
   "outputs": [
    {
     "name": "stdout",
     "output_type": "stream",
     "text": [
      "{'city': 'LA', 'name': 'Lucy John', 'interests': ['paragliding', 'computers', 'murdering'], 'profession': 'politician', 'age': 49}\n",
      "{'city': 'Chicago', 'name': 'Doe Lucy', 'interests': ['bicyle', 'killing', 'murdering'], 'profession': 'politician', 'age': 48}\n",
      "{'city': 'LA', 'name': 'Vito Gabriel', 'interests': ['murdering'], 'profession': 'politician', 'age': 40}\n",
      "{'city': 'LA', 'name': 'Gabriel Gabriel', 'interests': [], 'profession': 'politician', 'age': 48}\n",
      "{'city': 'LA', 'name': 'Doe Lucy', 'interests': ['cycling', 'outdoors'], 'profession': 'politician', 'age': 49}\n",
      "{'city': 'Utah', 'name': 'Gabe Gabe', 'interests': ['bicyle', 'murdering'], 'profession': 'politician', 'age': 45}\n",
      "{'city': 'Chicago', 'name': 'Gabriel John', 'interests': [], 'profession': 'politician', 'age': 49}\n",
      "{'city': 'Utah', 'name': 'Lucy Lucy', 'interests': ['computers'], 'profession': 'politician', 'age': 46}\n",
      "{'city': 'LA', 'name': 'Lucy Gabe', 'interests': ['outdoors'], 'profession': 'politician', 'age': 50}\n",
      "{'city': 'LA', 'name': 'Vito John', 'interests': ['paragliding', 'programming', 'rock climbing'], 'profession': 'politician', 'age': 44}\n"
     ]
    }
   ],
   "source": [
    "for i in gr:\n",
    "    print(i)"
   ]
  },
  {
   "cell_type": "code",
   "execution_count": 3,
   "metadata": {
    "collapsed": false
   },
   "outputs": [],
   "source": [
    "d = {'v':10, 't':8}\n",
    "d.get('x')"
   ]
  },
  {
   "cell_type": "code",
   "execution_count": null,
   "metadata": {
    "collapsed": true
   },
   "outputs": [],
   "source": []
  }
 ],
 "metadata": {
  "kernelspec": {
   "display_name": "Python 3.5 (crawling)",
   "language": "python",
   "name": "crawling"
  },
  "language_info": {
   "codemirror_mode": {
    "name": "ipython",
    "version": 3
   },
   "file_extension": ".py",
   "mimetype": "text/x-python",
   "name": "python",
   "nbconvert_exporter": "python",
   "pygments_lexer": "ipython3",
   "version": "3.5.6"
  }
 },
 "nbformat": 4,
 "nbformat_minor": 2
}
